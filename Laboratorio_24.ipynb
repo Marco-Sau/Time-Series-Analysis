{
  "nbformat": 4,
  "nbformat_minor": 0,
  "metadata": {
    "colab": {
      "provenance": [],
      "toc_visible": true,
      "include_colab_link": true
    },
    "kernelspec": {
      "name": "python3",
      "display_name": "Python 3"
    },
    "language_info": {
      "name": "python"
    }
  },
  "cells": [
    {
      "cell_type": "markdown",
      "metadata": {
        "id": "view-in-github",
        "colab_type": "text"
      },
      "source": [
        "<a href=\"https://colab.research.google.com/github/Marco-Sau/Time-Series-Analysis/blob/master/Laboratorio_24.ipynb\" target=\"_parent\"><img src=\"https://colab.research.google.com/assets/colab-badge.svg\" alt=\"Open In Colab\"/></a>"
      ]
    },
    {
      "cell_type": "markdown",
      "source": [
        "# Modelli di apprendimento per rinforzo basato sulle politiche\n",
        "\n",
        "Nei metodi basati sulle politiche, impariamo direttamente ad approssimare π* senza dover imparare una funzione stato-valore o azione-valore. L'idea è quella di parametrizzare la politica. Ad esempio, utilizzando una rete neurale π_θ, questa politica produrrà una distribuzione di probabilità sulle azioni (politica stocastica). Il nostro obiettivo è quindi quello di massimizzare le prestazioni della politica parametrizzata utilizzando l'ottimizzazione basata sulla discesa stocastica del gradiente. Per farlo, controlliamo il parametro π_θ che influenzerà la distribuzione delle azioni dato uno stato. Nei metodi basati sulle politiche, l'ottimizzazione è per la maggior parte del tempo on-policy, poiché per ogni aggiornamento si utilizzano solo i dati (traiettorie) raccolti dalla versione più recente di π_θ.\n",
        "\n",
        "Nello specifico, alla fine di questo notebook, sarete in grado di:\n",
        "- [Creare un agente](##Creare-un-agente): l'entità che andrà a prendere le decisioni sulle azioni da compiere nell'ambiente\n",
        "- [Creare le policy](##Creare-le-policy): instanziare l'insieme di regole (stavolta parametriche) che l'agente segue per prendere le sue decisioni.\n",
        "- [Definire le metriche e la valutazione](##Definire-le-metriche-e-la-valutazione) necessarie per il processo di addestramento.\n",
        "- [Addestrare un agente](##Addestrare-un-agente): l'obiettivo è massimizzare la ricompensa totale attesa (non minimizzare un punteggio di perdita).\n",
        "\n",
        "![](https://gymnasium.farama.org/_images/cart_pole.gif)"
      ],
      "metadata": {
        "id": "4FCchbOFngJI"
      }
    },
    {
      "cell_type": "markdown",
      "source": [
        "## Installazione e import librerie"
      ],
      "metadata": {
        "id": "ER3CT4Von4U0"
      }
    },
    {
      "cell_type": "code",
      "execution_count": null,
      "metadata": {
        "id": "-wzSN31o88Da",
        "colab": {
          "base_uri": "https://localhost:8080/"
        },
        "outputId": "51c98618-0d0c-45fd-9c68-c156a621e682"
      },
      "outputs": [
        {
          "output_type": "stream",
          "name": "stdout",
          "text": [
            "\r0% [Working]\r            \rHit:1 https://cloud.r-project.org/bin/linux/ubuntu focal-cran40/ InRelease\n",
            "Hit:2 https://developer.download.nvidia.com/compute/cuda/repos/ubuntu2004/x86_64  InRelease\n",
            "Get:3 http://security.ubuntu.com/ubuntu focal-security InRelease [114 kB]\n",
            "Hit:4 http://archive.ubuntu.com/ubuntu focal InRelease\n",
            "Get:5 http://archive.ubuntu.com/ubuntu focal-updates InRelease [114 kB]\n",
            "Hit:6 http://ppa.launchpad.net/c2d4u.team/c2d4u4.0+/ubuntu focal InRelease\n",
            "Get:7 http://archive.ubuntu.com/ubuntu focal-backports InRelease [108 kB]\n",
            "Hit:8 http://ppa.launchpad.net/cran/libgit2/ubuntu focal InRelease\n",
            "Hit:9 http://ppa.launchpad.net/deadsnakes/ppa/ubuntu focal InRelease\n",
            "Hit:10 http://ppa.launchpad.net/graphics-drivers/ppa/ubuntu focal InRelease\n",
            "Hit:11 http://ppa.launchpad.net/ubuntugis/ppa/ubuntu focal InRelease\n",
            "Fetched 336 kB in 2s (201 kB/s)\n",
            "Reading package lists... Done\n",
            "Reading package lists... Done\n",
            "Building dependency tree       \n",
            "Reading state information... Done\n",
            "freeglut3-dev is already the newest version (2.8.1-3).\n",
            "ffmpeg is already the newest version (7:4.2.7-0ubuntu0.1).\n",
            "xvfb is already the newest version (2:1.20.13-1ubuntu1~20.04.8).\n",
            "0 upgraded, 0 newly installed, 0 to remove and 26 not upgraded.\n",
            "Looking in indexes: https://pypi.org/simple, https://us-python.pkg.dev/colab-wheels/public/simple/\n",
            "Requirement already satisfied: imageio==2.4.0 in /usr/local/lib/python3.9/dist-packages (2.4.0)\n",
            "Requirement already satisfied: pillow in /usr/local/lib/python3.9/dist-packages (from imageio==2.4.0) (8.4.0)\n",
            "Requirement already satisfied: numpy in /usr/local/lib/python3.9/dist-packages (from imageio==2.4.0) (1.22.4)\n",
            "Looking in indexes: https://pypi.org/simple, https://us-python.pkg.dev/colab-wheels/public/simple/\n",
            "Requirement already satisfied: pyvirtualdisplay in /usr/local/lib/python3.9/dist-packages (3.0)\n",
            "Looking in indexes: https://pypi.org/simple, https://us-python.pkg.dev/colab-wheels/public/simple/\n",
            "Requirement already satisfied: tf-agents[reverb] in /usr/local/lib/python3.9/dist-packages (0.16.0)\n",
            "Requirement already satisfied: pillow in /usr/local/lib/python3.9/dist-packages (from tf-agents[reverb]) (8.4.0)\n",
            "Requirement already satisfied: numpy>=1.19.0 in /usr/local/lib/python3.9/dist-packages (from tf-agents[reverb]) (1.22.4)\n",
            "Requirement already satisfied: six>=1.10.0 in /usr/local/lib/python3.9/dist-packages (from tf-agents[reverb]) (1.16.0)\n",
            "Requirement already satisfied: protobuf>=3.11.3 in /usr/local/lib/python3.9/dist-packages (from tf-agents[reverb]) (3.20.3)\n",
            "Requirement already satisfied: absl-py>=0.6.1 in /usr/local/lib/python3.9/dist-packages (from tf-agents[reverb]) (1.4.0)\n",
            "Requirement already satisfied: wrapt>=1.11.1 in /usr/local/lib/python3.9/dist-packages (from tf-agents[reverb]) (1.14.1)\n",
            "Requirement already satisfied: cloudpickle>=1.3 in /usr/local/lib/python3.9/dist-packages (from tf-agents[reverb]) (2.2.1)\n",
            "Requirement already satisfied: typing-extensions>=3.7.4.3 in /usr/local/lib/python3.9/dist-packages (from tf-agents[reverb]) (4.5.0)\n",
            "Requirement already satisfied: gin-config>=0.4.0 in /usr/local/lib/python3.9/dist-packages (from tf-agents[reverb]) (0.5.0)\n",
            "Requirement already satisfied: tensorflow-probability~=0.19.0 in /usr/local/lib/python3.9/dist-packages (from tf-agents[reverb]) (0.19.0)\n",
            "Requirement already satisfied: pygame==2.1.3 in /usr/local/lib/python3.9/dist-packages (from tf-agents[reverb]) (2.1.3)\n",
            "Requirement already satisfied: gym<=0.23.0,>=0.17.0 in /usr/local/lib/python3.9/dist-packages (from tf-agents[reverb]) (0.23.0)\n",
            "Requirement already satisfied: rlds in /usr/local/lib/python3.9/dist-packages (from tf-agents[reverb]) (0.1.8)\n",
            "Requirement already satisfied: tensorflow~=2.12.0 in /usr/local/lib/python3.9/dist-packages (from tf-agents[reverb]) (2.12.0)\n",
            "Requirement already satisfied: dm-reverb~=0.11.0 in /usr/local/lib/python3.9/dist-packages (from tf-agents[reverb]) (0.11.0)\n",
            "Requirement already satisfied: dm-tree in /usr/local/lib/python3.9/dist-packages (from dm-reverb~=0.11.0->tf-agents[reverb]) (0.1.8)\n",
            "Requirement already satisfied: portpicker in /usr/local/lib/python3.9/dist-packages (from dm-reverb~=0.11.0->tf-agents[reverb]) (1.3.9)\n",
            "Requirement already satisfied: importlib-metadata>=4.10.0 in /usr/local/lib/python3.9/dist-packages (from gym<=0.23.0,>=0.17.0->tf-agents[reverb]) (6.6.0)\n",
            "Requirement already satisfied: gym-notices>=0.0.4 in /usr/local/lib/python3.9/dist-packages (from gym<=0.23.0,>=0.17.0->tf-agents[reverb]) (0.0.8)\n",
            "Requirement already satisfied: gast<=0.4.0,>=0.2.1 in /usr/local/lib/python3.9/dist-packages (from tensorflow~=2.12.0->tf-agents[reverb]) (0.4.0)\n",
            "Requirement already satisfied: setuptools in /usr/local/lib/python3.9/dist-packages (from tensorflow~=2.12.0->tf-agents[reverb]) (67.7.2)\n",
            "Requirement already satisfied: tensorflow-estimator<2.13,>=2.12.0 in /usr/local/lib/python3.9/dist-packages (from tensorflow~=2.12.0->tf-agents[reverb]) (2.12.0)\n",
            "Requirement already satisfied: tensorboard<2.13,>=2.12 in /usr/local/lib/python3.9/dist-packages (from tensorflow~=2.12.0->tf-agents[reverb]) (2.12.2)\n",
            "Requirement already satisfied: flatbuffers>=2.0 in /usr/local/lib/python3.9/dist-packages (from tensorflow~=2.12.0->tf-agents[reverb]) (23.3.3)\n",
            "Requirement already satisfied: jax>=0.3.15 in /usr/local/lib/python3.9/dist-packages (from tensorflow~=2.12.0->tf-agents[reverb]) (0.4.8)\n",
            "Requirement already satisfied: astunparse>=1.6.0 in /usr/local/lib/python3.9/dist-packages (from tensorflow~=2.12.0->tf-agents[reverb]) (1.6.3)\n",
            "Requirement already satisfied: libclang>=13.0.0 in /usr/local/lib/python3.9/dist-packages (from tensorflow~=2.12.0->tf-agents[reverb]) (16.0.0)\n",
            "Requirement already satisfied: termcolor>=1.1.0 in /usr/local/lib/python3.9/dist-packages (from tensorflow~=2.12.0->tf-agents[reverb]) (2.3.0)\n",
            "Requirement already satisfied: keras<2.13,>=2.12.0 in /usr/local/lib/python3.9/dist-packages (from tensorflow~=2.12.0->tf-agents[reverb]) (2.12.0)\n",
            "Requirement already satisfied: google-pasta>=0.1.1 in /usr/local/lib/python3.9/dist-packages (from tensorflow~=2.12.0->tf-agents[reverb]) (0.2.0)\n",
            "Requirement already satisfied: packaging in /usr/local/lib/python3.9/dist-packages (from tensorflow~=2.12.0->tf-agents[reverb]) (23.1)\n",
            "Requirement already satisfied: grpcio<2.0,>=1.24.3 in /usr/local/lib/python3.9/dist-packages (from tensorflow~=2.12.0->tf-agents[reverb]) (1.54.0)\n",
            "Requirement already satisfied: opt-einsum>=2.3.2 in /usr/local/lib/python3.9/dist-packages (from tensorflow~=2.12.0->tf-agents[reverb]) (3.3.0)\n",
            "Requirement already satisfied: h5py>=2.9.0 in /usr/local/lib/python3.9/dist-packages (from tensorflow~=2.12.0->tf-agents[reverb]) (3.8.0)\n",
            "Requirement already satisfied: tensorflow-io-gcs-filesystem>=0.23.1 in /usr/local/lib/python3.9/dist-packages (from tensorflow~=2.12.0->tf-agents[reverb]) (0.32.0)\n",
            "Requirement already satisfied: decorator in /usr/local/lib/python3.9/dist-packages (from tensorflow-probability~=0.19.0->tf-agents[reverb]) (4.4.2)\n",
            "Requirement already satisfied: wheel<1.0,>=0.23.0 in /usr/local/lib/python3.9/dist-packages (from astunparse>=1.6.0->tensorflow~=2.12.0->tf-agents[reverb]) (0.40.0)\n",
            "Requirement already satisfied: zipp>=0.5 in /usr/local/lib/python3.9/dist-packages (from importlib-metadata>=4.10.0->gym<=0.23.0,>=0.17.0->tf-agents[reverb]) (3.15.0)\n",
            "Requirement already satisfied: ml-dtypes>=0.0.3 in /usr/local/lib/python3.9/dist-packages (from jax>=0.3.15->tensorflow~=2.12.0->tf-agents[reverb]) (0.1.0)\n",
            "Requirement already satisfied: scipy>=1.7 in /usr/local/lib/python3.9/dist-packages (from jax>=0.3.15->tensorflow~=2.12.0->tf-agents[reverb]) (1.10.1)\n",
            "Requirement already satisfied: requests<3,>=2.21.0 in /usr/local/lib/python3.9/dist-packages (from tensorboard<2.13,>=2.12->tensorflow~=2.12.0->tf-agents[reverb]) (2.27.1)\n",
            "Requirement already satisfied: tensorboard-data-server<0.8.0,>=0.7.0 in /usr/local/lib/python3.9/dist-packages (from tensorboard<2.13,>=2.12->tensorflow~=2.12.0->tf-agents[reverb]) (0.7.0)\n",
            "Requirement already satisfied: google-auth-oauthlib<1.1,>=0.5 in /usr/local/lib/python3.9/dist-packages (from tensorboard<2.13,>=2.12->tensorflow~=2.12.0->tf-agents[reverb]) (1.0.0)\n",
            "Requirement already satisfied: tensorboard-plugin-wit>=1.6.0 in /usr/local/lib/python3.9/dist-packages (from tensorboard<2.13,>=2.12->tensorflow~=2.12.0->tf-agents[reverb]) (1.8.1)\n",
            "Requirement already satisfied: markdown>=2.6.8 in /usr/local/lib/python3.9/dist-packages (from tensorboard<2.13,>=2.12->tensorflow~=2.12.0->tf-agents[reverb]) (3.4.3)\n",
            "Requirement already satisfied: werkzeug>=1.0.1 in /usr/local/lib/python3.9/dist-packages (from tensorboard<2.13,>=2.12->tensorflow~=2.12.0->tf-agents[reverb]) (2.2.3)\n",
            "Requirement already satisfied: google-auth<3,>=1.6.3 in /usr/local/lib/python3.9/dist-packages (from tensorboard<2.13,>=2.12->tensorflow~=2.12.0->tf-agents[reverb]) (2.17.3)\n",
            "Requirement already satisfied: rsa<5,>=3.1.4 in /usr/local/lib/python3.9/dist-packages (from google-auth<3,>=1.6.3->tensorboard<2.13,>=2.12->tensorflow~=2.12.0->tf-agents[reverb]) (4.9)\n",
            "Requirement already satisfied: pyasn1-modules>=0.2.1 in /usr/local/lib/python3.9/dist-packages (from google-auth<3,>=1.6.3->tensorboard<2.13,>=2.12->tensorflow~=2.12.0->tf-agents[reverb]) (0.3.0)\n",
            "Requirement already satisfied: cachetools<6.0,>=2.0.0 in /usr/local/lib/python3.9/dist-packages (from google-auth<3,>=1.6.3->tensorboard<2.13,>=2.12->tensorflow~=2.12.0->tf-agents[reverb]) (5.3.0)\n",
            "Requirement already satisfied: requests-oauthlib>=0.7.0 in /usr/local/lib/python3.9/dist-packages (from google-auth-oauthlib<1.1,>=0.5->tensorboard<2.13,>=2.12->tensorflow~=2.12.0->tf-agents[reverb]) (1.3.1)\n",
            "Requirement already satisfied: urllib3<1.27,>=1.21.1 in /usr/local/lib/python3.9/dist-packages (from requests<3,>=2.21.0->tensorboard<2.13,>=2.12->tensorflow~=2.12.0->tf-agents[reverb]) (1.26.15)\n",
            "Requirement already satisfied: charset-normalizer~=2.0.0 in /usr/local/lib/python3.9/dist-packages (from requests<3,>=2.21.0->tensorboard<2.13,>=2.12->tensorflow~=2.12.0->tf-agents[reverb]) (2.0.12)\n",
            "Requirement already satisfied: certifi>=2017.4.17 in /usr/local/lib/python3.9/dist-packages (from requests<3,>=2.21.0->tensorboard<2.13,>=2.12->tensorflow~=2.12.0->tf-agents[reverb]) (2022.12.7)\n",
            "Requirement already satisfied: idna<4,>=2.5 in /usr/local/lib/python3.9/dist-packages (from requests<3,>=2.21.0->tensorboard<2.13,>=2.12->tensorflow~=2.12.0->tf-agents[reverb]) (3.4)\n",
            "Requirement already satisfied: MarkupSafe>=2.1.1 in /usr/local/lib/python3.9/dist-packages (from werkzeug>=1.0.1->tensorboard<2.13,>=2.12->tensorflow~=2.12.0->tf-agents[reverb]) (2.1.2)\n",
            "Requirement already satisfied: pyasn1<0.6.0,>=0.4.6 in /usr/local/lib/python3.9/dist-packages (from pyasn1-modules>=0.2.1->google-auth<3,>=1.6.3->tensorboard<2.13,>=2.12->tensorflow~=2.12.0->tf-agents[reverb]) (0.5.0)\n",
            "Requirement already satisfied: oauthlib>=3.0.0 in /usr/local/lib/python3.9/dist-packages (from requests-oauthlib>=0.7.0->google-auth-oauthlib<1.1,>=0.5->tensorboard<2.13,>=2.12->tensorflow~=2.12.0->tf-agents[reverb]) (3.2.2)\n",
            "Looking in indexes: https://pypi.org/simple, https://us-python.pkg.dev/colab-wheels/public/simple/\n",
            "Requirement already satisfied: pyglet in /usr/local/lib/python3.9/dist-packages (2.0.5)\n",
            "Requirement already satisfied: xvfbwrapper in /usr/local/lib/python3.9/dist-packages (0.2.9)\n"
          ]
        }
      ],
      "source": [
        "!sudo apt-get update\n",
        "!sudo apt-get install -y xvfb ffmpeg freeglut3-dev\n",
        "!pip install 'imageio==2.4.0'\n",
        "!pip install pyvirtualdisplay\n",
        "!pip install tf-agents[reverb]\n",
        "!pip install pyglet xvfbwrapper"
      ]
    },
    {
      "cell_type": "code",
      "source": [
        "import os\n",
        "os.environ[\"CUDA_VISIBLE_DEVICES\"]=\"-1\" \n",
        "import tf_agents\n",
        "import tensorflow as tf\n",
        "import PIL.Image\n",
        "import pyvirtualdisplay\n",
        "import numpy as np\n",
        "import reverb\n",
        "import matplotlib.pyplot as plt\n",
        "import IPython\n",
        "import base64\n",
        "import imageio\n",
        "import gym"
      ],
      "metadata": {
        "id": "_3vQcCtFnqji"
      },
      "execution_count": null,
      "outputs": []
    },
    {
      "cell_type": "markdown",
      "source": [
        "## Configurazione dell'ambiente\n",
        "Impostiamo i parametri che regoleranno l'allenamento nella \"palestra\" per la base del palo."
      ],
      "metadata": {
        "id": "CbsgJWsqn7RJ"
      }
    },
    {
      "cell_type": "code",
      "source": [
        "# Per poter renderizzare lo stato del nostro ambiente, è necessario creare uno \"schermo virtuale\".\n",
        "display = pyvirtualdisplay.Display(visible=0, size=(1400, 900)).start()"
      ],
      "metadata": {
        "id": "zZlakx4inz5Z"
      },
      "execution_count": null,
      "outputs": []
    },
    {
      "cell_type": "code",
      "source": [
        "# Carichiamo l'ambiente\n",
        "env_name = 'CartPole-v0'\n",
        "env = tf_agents.environments.suite_gym.load(env_name)\n",
        "\n",
        "# Resettiamo l'ambiente ad uno stato neutro\n",
        "env.reset()\n",
        "\n",
        "# Renderizziamo l'immagine attuale del nostro ambiente\n",
        "PIL.Image.fromarray(env.render())"
      ],
      "metadata": {
        "colab": {
          "base_uri": "https://localhost:8080/",
          "height": 417
        },
        "id": "aWRL3HPAoGIx",
        "outputId": "7c575a53-3d3d-4bec-cefb-b6964e386d21"
      },
      "execution_count": null,
      "outputs": [
        {
          "output_type": "execute_result",
          "data": {
            "text/plain": [
              "<PIL.Image.Image image mode=RGB size=600x400 at 0x7F3CCB05A550>"
            ],
            "image/png": "[encoded data removed]"
          },
          "metadata": {},
          "execution_count": 4
        }
      ]
    },
    {
      "cell_type": "markdown",
      "source": [
        "Il metodo `environment.step(action)` esegue un'azione nell'ambiente e rende un TimeStep (una tupla) contenente l'osservazione successiva e la ricompensa per l'azione eseguita."
      ],
      "metadata": {
        "id": "ADhREoX5pU0i"
      }
    },
    {
      "cell_type": "code",
      "source": [
        "spec = env.time_step_spec()\n",
        "print(\"Specifica di un'osservazione dello stato dell'ambiente\")\n",
        "print(spec.observation)\n",
        "print(\"\\nSpecifica di una ricompensa per l'esecuzione di un'azione\")\n",
        "print(spec.reward)\n",
        "print('\\nSpecifica di una generica azione effettuabile:')\n",
        "print(env.action_spec())"
      ],
      "metadata": {
        "colab": {
          "base_uri": "https://localhost:8080/"
        },
        "id": "cKdJMgC4peh7",
        "outputId": "b44a44c4-0e19-4b01-b644-a41f12a7ffb6"
      },
      "execution_count": null,
      "outputs": [
        {
          "output_type": "stream",
          "name": "stdout",
          "text": [
            "Specifica di un'osservazione dello stato dell'ambiente\n",
            "BoundedArraySpec(shape=(4,), dtype=dtype('float32'), name='observation', minimum=[-4.8000002e+00 -3.4028235e+38 -4.1887903e-01 -3.4028235e+38], maximum=[4.8000002e+00 3.4028235e+38 4.1887903e-01 3.4028235e+38])\n",
            "\n",
            "Specifica di una ricompensa per l'esecuzione di un'azione\n",
            "ArraySpec(shape=(), dtype=dtype('float32'), name='reward')\n",
            "\n",
            "Specifica di una generica azione effettuabile:\n",
            "BoundedArraySpec(shape=(), dtype=dtype('int64'), name='action', minimum=0, maximum=1)\n"
          ]
        }
      ]
    },
    {
      "cell_type": "markdown",
      "source": [
        "Esaminiamo più nel dettaglio ciò che abbiamo appena visto.\n",
        "- Un'osservazione (ovvero lo stato interno del nostro ambiente) è composto, per questo task, da 4 numeri float:\n",
        "  - Posizione della base del palo\n",
        "  - Velocità della base del palo\n",
        "  - Angolazione del palo\n",
        "  - Velocità angolare del palo\n",
        "- Una ricompensa (reward) è un singolo scalare in virgola mobile che indica quanto l'azione eseguita sia corretta\n",
        "- Un'azione è uno scalare intero che può assumere solo due valori;\n",
        "  - 0 -> muoviti a sinistra\n",
        "  - 1 -> muoviti a destra"
      ],
      "metadata": {
        "id": "r1GMwWMBpmoM"
      }
    },
    {
      "cell_type": "code",
      "source": [
        "time_step = env.reset()\n",
        "print('Time step:')\n",
        "print(time_step)\n",
        "\n",
        "# Instanziamo un'azione (in questo caso un movimento verso destra)\n",
        "action = np.array(1, dtype=np.int32)\n",
        "\n",
        "# Eseguiamo l'azione\n",
        "next_time_step = env.step(action)\n",
        "# E visualizziamo lo stato dell'ambiente dopo l'esecuzione della stessa\n",
        "print('Prossimo time step:')\n",
        "print(next_time_step)\n",
        "PIL.Image.fromarray(env.render())"
      ],
      "metadata": {
        "colab": {
          "base_uri": "https://localhost:8080/",
          "height": 625
        },
        "id": "N6_gMgzHpnam",
        "outputId": "7643efab-7988-4fc4-aacc-90dfd18d883d"
      },
      "execution_count": null,
      "outputs": [
        {
          "output_type": "stream",
          "name": "stdout",
          "text": [
            "Time step:\n",
            "TimeStep(\n",
            "{'discount': array(1., dtype=float32),\n",
            " 'observation': array([ 0.03521048, -0.02673343, -0.03593938, -0.00220052], dtype=float32),\n",
            " 'reward': array(0., dtype=float32),\n",
            " 'step_type': array(0, dtype=int32)})\n",
            "Prossimo time step:\n",
            "TimeStep(\n",
            "{'discount': array(1., dtype=float32),\n",
            " 'observation': array([ 0.03467581,  0.16888502, -0.03598339, -0.30600262], dtype=float32),\n",
            " 'reward': array(1., dtype=float32),\n",
            " 'step_type': array(1, dtype=int32)})\n"
          ]
        },
        {
          "output_type": "execute_result",
          "data": {
            "text/plain": [
              "<PIL.Image.Image image mode=RGB size=600x400 at 0x7F3CBD237B50>"
            ],
            "image/png": "[encoded data removed]"
          },
          "metadata": {},
          "execution_count": 6
        }
      ]
    },
    {
      "cell_type": "markdown",
      "source": [
        "Per questa tipologia di problemi, vengono instanziati due ambienti: uno per l'addestramento e l'altro per la valutazione. L'ambiente Cartpole, come la maggior parte degli ambienti, è scritto in Python puro. Per renderlo compatibile con TensorFlow utilizziamo il wrapper `TFPyEnvironment`. L'API dell'ambiente originale utilizza solo array Numpy. Il TFPyEnvironment li converte in tensori per renderli compatibili con gli agenti e le politiche di Tensorflow."
      ],
      "metadata": {
        "id": "73rwGp8tpyh4"
      }
    },
    {
      "cell_type": "code",
      "source": [
        "train_py_env = tf_agents.environments.suite_gym.load(env_name)\n",
        "eval_py_env = tf_agents.environments.suite_gym.load(env_name)\n",
        "\n",
        "train_env = tf_agents.environments.tf_py_environment.TFPyEnvironment(train_py_env)\n",
        "eval_env = tf_agents.environments.tf_py_environment.TFPyEnvironment(eval_py_env)"
      ],
      "metadata": {
        "id": "c06JmRl1p3eu"
      },
      "execution_count": null,
      "outputs": []
    },
    {
      "cell_type": "markdown",
      "source": [
        "## Creare un agente di rinforzo\n",
        "\n",
        "L'algoritmo utilizzato per risolvere un problema apprendimento per rinforzo è rappresentato da un agente. In questo caso, a differenza della lezione precedente, andremo a creare un agente di rinforzo (REINFORCE). Per creare un agente di rinforzo, abbiamo bisogno di una rete attrice (Actor Network) che impari a prevedere un'azione in base a un'osservazione dell'ambiente. Possiamo creare facilmente una rete di attori utilizzando le specifiche delle osservazioni e delle azioni. Possiamo specificare le caratteristiche degli strati della rete che, in questo esempio, sono rappresentate nell'argomento fc_layer_params impostato su una tupla di int che rappresenta le dimensioni di ogni strato nascosto."
      ],
      "metadata": {
        "id": "2lRUE_n_qeOv"
      }
    },
    {
      "cell_type": "code",
      "source": [
        "fc_layer_params = (100,)\n",
        "\n",
        "actor_net = tf_agents.networks.actor_distribution_network.ActorDistributionNetwork(\n",
        "    train_env.observation_spec(),\n",
        "    train_env.action_spec(),\n",
        "    fc_layer_params=fc_layer_params)"
      ],
      "metadata": {
        "id": "XChtLAcLq9pI"
      },
      "execution_count": null,
      "outputs": []
    },
    {
      "cell_type": "markdown",
      "source": [
        "Istanziamo ora l'agente. "
      ],
      "metadata": {
        "id": "w5ypO-OcSJZ-"
      }
    },
    {
      "cell_type": "code",
      "source": [
        "optimizer = tf.keras.optimizers.Adam(learning_rate=1e-3)\n",
        "\n",
        "train_step_counter = tf.Variable(0)\n",
        "\n",
        "tf_agent = tf_agents.agents.reinforce.reinforce_agent.ReinforceAgent(\n",
        "    train_env.time_step_spec(),\n",
        "    train_env.action_spec(),\n",
        "    actor_network=actor_net,\n",
        "    optimizer=optimizer,\n",
        "    normalize_returns=True,\n",
        "    train_step_counter=train_step_counter)\n",
        "tf_agent.initialize()"
      ],
      "metadata": {
        "id": "qonNqv5Hrlen"
      },
      "execution_count": null,
      "outputs": []
    },
    {
      "cell_type": "markdown",
      "source": [
        "## Creare le politiche\n",
        "\n",
        "Nei TF-Agents, le politiche rappresentano la nozione standard delle regole nel RL: dato un time_step producono un'azione o una distribuzione di azioni. Il metodo principale è policy_step = policy.action(time_step), dove policy_step è una tupla denominata PolicyStep(action, state, info). Policy_step.action è l'azione da applicare all'ambiente, state rappresenta lo stato per le politiche stateful (RNN) e info può contenere informazioni ausiliarie come le probabilità logaritmiche delle azioni. Gli agenti contengono due politiche: la politica principale che viene utilizzata per la valutazione/dispiegamento (agent.policy) e un'altra politica che viene utilizzata per la raccolta dei dati (agent.collect_policy). Definiamole entrambe."
      ],
      "metadata": {
        "id": "THF1vV6CsLDk"
      }
    },
    {
      "cell_type": "code",
      "source": [
        "eval_policy = tf_agent.policy\n",
        "collect_policy = tf_agent.collect_policy"
      ],
      "metadata": {
        "id": "eD5qEbI-sjf3"
      },
      "execution_count": null,
      "outputs": []
    },
    {
      "cell_type": "markdown",
      "source": [
        "## Definire le metriche e la valutazione\n",
        "La metrica più comunemente utilizzata per valutare una politica è il rendimento medio. Il rendimento è la somma delle ricompense ottenute durante l'esecuzione di una politica in un ambiente per un episodio. Vengono eseguiti diversi episodi, creando un rendimento medio.\n",
        "\n",
        "La funzione seguente calcola il rendimento medio di una politica, data la politica, l'ambiente e un numero di episodi."
      ],
      "metadata": {
        "id": "N7loocr1sonK"
      }
    },
    {
      "cell_type": "code",
      "source": [
        "def compute_avg_return(environment, policy, num_episodes=10):\n",
        "\n",
        "  total_return = 0.0\n",
        "  for _ in range(num_episodes):\n",
        "\n",
        "    time_step = environment.reset()\n",
        "    episode_return = 0.0\n",
        "\n",
        "    while not time_step.is_last():\n",
        "      action_step = policy.action(time_step)\n",
        "      time_step = environment.step(action_step.action)\n",
        "      episode_return += time_step.reward\n",
        "    total_return += episode_return\n",
        "\n",
        "  avg_return = total_return / num_episodes\n",
        "  return avg_return.numpy()[0]"
      ],
      "metadata": {
        "id": "2lmglFSSsrxA"
      },
      "execution_count": null,
      "outputs": []
    },
    {
      "cell_type": "markdown",
      "source": [
        "### Buffer di Replay\n",
        "\n",
        "Per tenere traccia dei dati raccolti dall'ambiente, utilizzeremo Reverb, un sistema di replay efficiente, estensibile e facile da usare di Deepmind. Memorizza i dati dell'esperienza quando raccogliamo le traiettorie e li consuma durante l'addestramento. Questo buffer di replay è costruito utilizzando le specifiche che descrivono i tensori da memorizzare, che possono essere ottenute dall'agente utilizzando agent.collect_data_spec."
      ],
      "metadata": {
        "id": "ku5xOq_ntOXA"
      }
    },
    {
      "cell_type": "code",
      "source": [
        "replay_buffer_capacity = 2000\n",
        "\n",
        "table_name = 'uniform_table'\n",
        "\n",
        "# Crea una firma per i buffer in modo tale da farle contenere la signature della traiettoria (vista sopra)\n",
        "replay_buffer_signature = tf_agents.specs.tensor_spec.from_spec(tf_agent.collect_data_spec)\n",
        "# Aggiunge una nuova dimensione sul primo asse (in poche parole, una dimensione None che servirà per la raccolta dei batch)\n",
        "replay_buffer_signature = tf_agents.specs.tensor_spec.add_outer_dim(replay_buffer_signature)\n",
        "\n",
        "table = reverb.Table(\n",
        "    table_name, # Nome della tabella\n",
        "    max_size=replay_buffer_capacity,  # Lunghezza massima della sequenza - 2000\n",
        "    sampler=reverb.selectors.Uniform(),\n",
        "    remover=reverb.selectors.Fifo(), # Scorre i sample secondo la metodologia FIFO\n",
        "    rate_limiter=reverb.rate_limiters.MinSize(1),\n",
        "    signature=replay_buffer_signature)\n",
        "\n",
        "reverb_server = reverb.Server([table])\n",
        "\n",
        "\n",
        "# Creiamo ora un buffer di replay (che collezionerà i dati necessari per l'addestramento)\n",
        "replay_buffer = tf_agents.replay_buffers.reverb_replay_buffer.ReverbReplayBuffer(\n",
        "    tf_agent.collect_data_spec, # Seguendo le specifiche della traiettoria\n",
        "    table_name=table_name, # E con le specifiche della tabella definita sopra\n",
        "    sequence_length=None, # Creando sequenze di lunghezza indefinita\n",
        "    local_server=reverb_server) # Che saranno erogate dal server creato\n",
        "\n",
        "# Allo stesso modo creiamo l'observer (il client), che acquisirà i dati forniti dal server\n",
        "rb_observer = tf_agents.replay_buffers.reverb_utils.ReverbAddEpisodeObserver(\n",
        "    replay_buffer.py_client,\n",
        "    table_name,\n",
        "    replay_buffer_capacity\n",
        ")"
      ],
      "metadata": {
        "id": "X9nHR7I3tOk6"
      },
      "execution_count": null,
      "outputs": []
    },
    {
      "cell_type": "markdown",
      "source": [
        "### Collezione dei dati\n",
        "\n",
        "Poiché il rinforzo apprende da interi episodi, definiamo una funzione per raccogliere un episodio utilizzando la politica di raccolta dati data e salvando i dati (osservazioni, azioni, ricompense ecc.) come traiettorie nel buffer di replay. Qui usiamo 'PyDriver' per eseguire il ciclo di raccolta delle esperienze."
      ],
      "metadata": {
        "id": "BL5LYH_ruwSV"
      }
    },
    {
      "cell_type": "code",
      "source": [
        "def collect_episode(environment, policy, num_episodes):\n",
        "  driver = tf_agents.drivers.py_driver.PyDriver(\n",
        "    environment,\n",
        "    tf_agents.policies.py_tf_eager_policy.PyTFEagerPolicy(policy, use_tf_function=True), \n",
        "    [rb_observer], \n",
        "    max_episodes=num_episodes)\n",
        "  initial_time_step = environment.reset()\n",
        "  driver.run(initial_time_step)"
      ],
      "metadata": {
        "id": "u-XW3rEru0Bk"
      },
      "execution_count": null,
      "outputs": []
    },
    {
      "cell_type": "markdown",
      "source": [
        "## Addestrare un agente di rinforzo\n",
        "\n",
        "Il ciclo di addestramento prevede la raccolta di dati dall'ambiente e l'ottimizzazione delle reti dell'agente. Lungo il percorso, di tanto in tanto valuteremo la politica dell'agente per vedere come stiamo andando.\n",
        "\n",
        "L'esecuzione di quanto segue richiede circa 3 minuti."
      ],
      "metadata": {
        "id": "aAsuE5LfvLg5"
      }
    },
    {
      "cell_type": "code",
      "source": [
        "num_iterations = 450 \n",
        "collect_episodes_per_iteration = 2\n",
        "num_eval_episodes = 10\n",
        "log_interval = 25\n",
        "eval_interval = 50\n",
        "\n",
        "# (Facoltativo) Ottimizzare eseguendo parte del codice in un grafo usando la funzione TF.\n",
        "tf_agent.train = tf_agents.utils.common.function(tf_agent.train)\n",
        "\n",
        "# Resettiamo il contatore dei passi.\n",
        "tf_agent.train_step_counter.assign(0)\n",
        "\n",
        "# Valutiamo la policy dell'agente prima dell'addestramento.\n",
        "avg_return = compute_avg_return(eval_env, tf_agent.policy, num_eval_episodes)\n",
        "returns = [avg_return]\n",
        "\n",
        "for _ in range(num_iterations):\n",
        "\n",
        "  # Collezioniamo alcuni episodi usando la collect_policy e salviamoli nel replay buffer.\n",
        "  collect_episode(train_py_env, tf_agent.collect_policy, collect_episodes_per_iteration)\n",
        "\n",
        "  # Usiamo i dati del buffer per aggiornare l'agente di rinforzo\n",
        "  iterator = iter(replay_buffer.as_dataset(sample_batch_size=1))\n",
        "  trajectories, _ = next(iterator)\n",
        "  train_loss = tf_agent.train(experience=trajectories)  \n",
        "\n",
        "  replay_buffer.clear()\n",
        "\n",
        "  step = tf_agent.train_step_counter.numpy()\n",
        "\n",
        "  if step % log_interval == 0:\n",
        "    print('step = {0}: loss = {1}'.format(step, train_loss.loss))\n",
        "\n",
        "  if step % eval_interval == 0:\n",
        "    avg_return = compute_avg_return(eval_env, tf_agent.policy, num_eval_episodes)\n",
        "    print('step = {0}: Average Return = {1}'.format(step, avg_return))\n",
        "    returns.append(avg_return)"
      ],
      "metadata": {
        "colab": {
          "base_uri": "https://localhost:8080/"
        },
        "id": "koHJ5K5ovR_p",
        "outputId": "89cac623-0f12-41ee-ee93-9fdd8e842bd1"
      },
      "execution_count": null,
      "outputs": [
        {
          "output_type": "stream",
          "name": "stdout",
          "text": [
            "step = 25: loss = 0.9186301231384277\n",
            "step = 50: loss = 0.5945554375648499\n",
            "step = 50: Average Return = 76.80000305175781\n",
            "step = 75: loss = 1.4828269481658936\n",
            "step = 100: loss = 1.6887640953063965\n",
            "step = 100: Average Return = 136.60000610351562\n",
            "step = 125: loss = 1.289275884628296\n",
            "step = 150: loss = 4.744529724121094e-05\n",
            "step = 150: Average Return = 64.0\n",
            "step = 175: loss = -2.096928596496582\n",
            "step = 200: loss = 2.977220058441162\n",
            "step = 200: Average Return = 163.89999389648438\n",
            "step = 225: loss = 0.38585424423217773\n",
            "step = 250: loss = -0.8202600479125977\n",
            "step = 250: Average Return = 200.0\n",
            "step = 275: loss = 1.28887939453125\n",
            "step = 300: loss = 1.167776107788086\n",
            "step = 300: Average Return = 200.0\n",
            "step = 325: loss = -2.1270439624786377\n",
            "step = 350: loss = -4.371376991271973\n",
            "step = 350: Average Return = 200.0\n",
            "step = 375: loss = 1.824448585510254\n",
            "step = 400: loss = -4.504092693328857\n",
            "step = 400: Average Return = 200.0\n",
            "step = 425: loss = -1.1469230651855469\n",
            "step = 450: loss = 0.19414305686950684\n",
            "step = 450: Average Return = 198.8000030517578\n"
          ]
        }
      ]
    },
    {
      "cell_type": "markdown",
      "source": [
        "Un'iterazione di Cartpole-v0 consiste in 200 passi temporali. L'ambiente dà una ricompensa di +1 per ogni passo in cui il palo rimane in alto, quindi il rendimento massimo per un episodio è 200. "
      ],
      "metadata": {
        "id": "R5OhCENXwY7w"
      }
    },
    {
      "cell_type": "code",
      "source": [
        "steps = range(0, num_iterations + 1, eval_interval)\n",
        "plt.plot(steps, returns)\n",
        "plt.ylabel('Rendimento medio')\n",
        "plt.xlabel('Passi')\n",
        "plt.ylim(top=250)"
      ],
      "metadata": {
        "colab": {
          "base_uri": "https://localhost:8080/",
          "height": 472
        },
        "id": "tBZM9MlvwcOW",
        "outputId": "b3ac3bcd-67c2-4a19-9ea3-91b9e3beb81a"
      },
      "execution_count": null,
      "outputs": [
        {
          "output_type": "execute_result",
          "data": {
            "text/plain": [
              "(57.2, 250.0)"
            ]
          },
          "metadata": {},
          "execution_count": 16
        },
        {
          "output_type": "display_data",
          "data": {
            "text/plain": [
              "<Figure size 640x480 with 1 Axes>"
            ],
            "image/png": "[encoded data removed]"
          },
          "metadata": {}
        }
      ]
    },
    {
      "cell_type": "code",
      "source": [
        "def embed_mp4(filename):\n",
        "  \"\"\"Integra un file MP4 nel notebook.\"\"\"\n",
        "  video = open(filename,'rb').read()\n",
        "  b64 = base64.b64encode(video)\n",
        "  tag = '''\n",
        "  <video width=\"640\" height=\"480\" controls>\n",
        "    <source src=\"data:video/mp4;base64,{0}\" type=\"video/mp4\">\n",
        "  Your browser does not support the video tag.\n",
        "  </video>'''.format(b64.decode())\n",
        "\n",
        "  return IPython.display.HTML(tag)"
      ],
      "metadata": {
        "id": "VAmnLOIjxTjT"
      },
      "execution_count": null,
      "outputs": []
    },
    {
      "cell_type": "code",
      "source": [
        "num_episodes = 10\n",
        "video_filename = 'imageio.mp4'\n",
        "with imageio.get_writer(video_filename, fps=60) as video:\n",
        "  for _ in range(num_episodes):\n",
        "    time_step = eval_env.reset()\n",
        "    video.append_data(eval_py_env.render())\n",
        "    while not time_step.is_last():\n",
        "      action_step = tf_agent.policy.action(time_step)\n",
        "      time_step = eval_env.step(action_step.action)\n",
        "      video.append_data(eval_py_env.render())\n",
        "\n",
        "embed_mp4(video_filename)"
      ],
      "metadata": {
        "colab": {
          "base_uri": "https://localhost:8080/",
          "height": 539
        },
        "id": "sOBJODxOxWUu",
        "outputId": "a291a05e-9379-4925-a538-815c3620c3d9"
      },
      "execution_count": null,
      "outputs": [
        {
          "output_type": "stream",
          "name": "stderr",
          "text": [
            "WARNING:root:IMAGEIO FFMPEG_WRITER WARNING: input image is not divisible by macro_block_size=16, resizing from (400, 600) to (400, 608) to ensure video compatibility with most codecs and players. To prevent resizing, make your input image divisible by the macro_block_size or set the macro_block_size to None (risking incompatibility). You may also see a FFMPEG warning concerning speedloss due to data not being aligned.\n"
          ]
        },
        {
          "output_type": "execute_result",
          "data": {
            "text/plain": [
              "<IPython.core.display.HTML object>"
            ],
            "text/html": [
              "\n",
              "  <video width=\"640\" height=\"480\" controls>\n",
              "    <source src=\"data:video/mp4;base64,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\" type=\"video/mp4\">\n",
              "  Your browser does not support the video tag.\n",
              "  </video>"
            ]
          },
          "metadata": {},
          "execution_count": 18
        }
      ]
    }
  ]
}